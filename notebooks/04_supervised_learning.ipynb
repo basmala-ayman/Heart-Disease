{
 "cells": [
  {
   "cell_type": "code",
   "execution_count": 105,
   "id": "d92d34d1",
   "metadata": {},
   "outputs": [],
   "source": [
    "import pandas as pd\n",
    "import matplotlib.pyplot as plt\n",
    "import seaborn as sns\n",
    "from sklearn.model_selection import train_test_split\n",
    "from sklearn.preprocessing import StandardScaler\n",
    "from sklearn.linear_model import LogisticRegression\n",
    "from sklearn.tree import DecisionTreeClassifier\n",
    "from sklearn.ensemble import RandomForestClassifier\n",
    "from sklearn.svm import SVC\n",
    "from sklearn.metrics import accuracy_score, precision_score, recall_score, f1_score, roc_curve, auc, classification_report"
   ]
  },
  {
   "cell_type": "code",
   "execution_count": 106,
   "id": "3a5ab3b7",
   "metadata": {},
   "outputs": [],
   "source": [
    "df = pd.read_csv(\"../data/feature_selection_heart_disease.csv\")"
   ]
  },
  {
   "cell_type": "code",
   "execution_count": 107,
   "id": "b44998d3",
   "metadata": {},
   "outputs": [
    {
     "data": {
      "text/html": [
       "<div>\n",
       "<style scoped>\n",
       "    .dataframe tbody tr th:only-of-type {\n",
       "        vertical-align: middle;\n",
       "    }\n",
       "\n",
       "    .dataframe tbody tr th {\n",
       "        vertical-align: top;\n",
       "    }\n",
       "\n",
       "    .dataframe thead th {\n",
       "        text-align: right;\n",
       "    }\n",
       "</style>\n",
       "<table border=\"1\" class=\"dataframe\">\n",
       "  <thead>\n",
       "    <tr style=\"text-align: right;\">\n",
       "      <th></th>\n",
       "      <th>thalach</th>\n",
       "      <th>cp</th>\n",
       "      <th>ca</th>\n",
       "      <th>oldpeak</th>\n",
       "      <th>thal</th>\n",
       "      <th>exang</th>\n",
       "      <th>num</th>\n",
       "    </tr>\n",
       "  </thead>\n",
       "  <tbody>\n",
       "    <tr>\n",
       "      <th>0</th>\n",
       "      <td>150</td>\n",
       "      <td>1</td>\n",
       "      <td>0.0</td>\n",
       "      <td>2.3</td>\n",
       "      <td>6.0</td>\n",
       "      <td>0</td>\n",
       "      <td>0</td>\n",
       "    </tr>\n",
       "    <tr>\n",
       "      <th>1</th>\n",
       "      <td>108</td>\n",
       "      <td>4</td>\n",
       "      <td>3.0</td>\n",
       "      <td>1.5</td>\n",
       "      <td>3.0</td>\n",
       "      <td>1</td>\n",
       "      <td>1</td>\n",
       "    </tr>\n",
       "    <tr>\n",
       "      <th>2</th>\n",
       "      <td>129</td>\n",
       "      <td>4</td>\n",
       "      <td>2.0</td>\n",
       "      <td>2.6</td>\n",
       "      <td>7.0</td>\n",
       "      <td>1</td>\n",
       "      <td>1</td>\n",
       "    </tr>\n",
       "    <tr>\n",
       "      <th>3</th>\n",
       "      <td>187</td>\n",
       "      <td>3</td>\n",
       "      <td>0.0</td>\n",
       "      <td>3.5</td>\n",
       "      <td>3.0</td>\n",
       "      <td>0</td>\n",
       "      <td>0</td>\n",
       "    </tr>\n",
       "    <tr>\n",
       "      <th>4</th>\n",
       "      <td>172</td>\n",
       "      <td>2</td>\n",
       "      <td>0.0</td>\n",
       "      <td>1.4</td>\n",
       "      <td>3.0</td>\n",
       "      <td>0</td>\n",
       "      <td>0</td>\n",
       "    </tr>\n",
       "  </tbody>\n",
       "</table>\n",
       "</div>"
      ],
      "text/plain": [
       "   thalach  cp   ca  oldpeak  thal  exang  num\n",
       "0      150   1  0.0      2.3   6.0      0    0\n",
       "1      108   4  3.0      1.5   3.0      1    1\n",
       "2      129   4  2.0      2.6   7.0      1    1\n",
       "3      187   3  0.0      3.5   3.0      0    0\n",
       "4      172   2  0.0      1.4   3.0      0    0"
      ]
     },
     "execution_count": 107,
     "metadata": {},
     "output_type": "execute_result"
    }
   ],
   "source": [
    "df.head()"
   ]
  },
  {
   "cell_type": "code",
   "execution_count": 108,
   "id": "6b183bda",
   "metadata": {},
   "outputs": [
    {
     "data": {
      "text/plain": [
       "(303, 7)"
      ]
     },
     "execution_count": 108,
     "metadata": {},
     "output_type": "execute_result"
    }
   ],
   "source": [
    "df.shape"
   ]
  },
  {
   "cell_type": "code",
   "execution_count": 109,
   "id": "be377869",
   "metadata": {},
   "outputs": [
    {
     "data": {
      "text/plain": [
       "num\n",
       "0    164\n",
       "1    139\n",
       "Name: count, dtype: int64"
      ]
     },
     "execution_count": 109,
     "metadata": {},
     "output_type": "execute_result"
    }
   ],
   "source": [
    "df['num'].value_counts()\n",
    "# 0 -> No Heart Disease\n",
    "# 1 -> Heart Disease"
   ]
  },
  {
   "cell_type": "code",
   "execution_count": 110,
   "id": "ddfe9f32",
   "metadata": {},
   "outputs": [],
   "source": [
    "X = df.drop('num', axis=1)\n",
    "Y = df['num']"
   ]
  },
  {
   "cell_type": "code",
   "execution_count": 111,
   "id": "c8ada33f",
   "metadata": {},
   "outputs": [
    {
     "data": {
      "text/html": [
       "<div>\n",
       "<style scoped>\n",
       "    .dataframe tbody tr th:only-of-type {\n",
       "        vertical-align: middle;\n",
       "    }\n",
       "\n",
       "    .dataframe tbody tr th {\n",
       "        vertical-align: top;\n",
       "    }\n",
       "\n",
       "    .dataframe thead th {\n",
       "        text-align: right;\n",
       "    }\n",
       "</style>\n",
       "<table border=\"1\" class=\"dataframe\">\n",
       "  <thead>\n",
       "    <tr style=\"text-align: right;\">\n",
       "      <th></th>\n",
       "      <th>thalach</th>\n",
       "      <th>cp</th>\n",
       "      <th>ca</th>\n",
       "      <th>oldpeak</th>\n",
       "      <th>thal</th>\n",
       "      <th>exang</th>\n",
       "    </tr>\n",
       "  </thead>\n",
       "  <tbody>\n",
       "    <tr>\n",
       "      <th>0</th>\n",
       "      <td>150</td>\n",
       "      <td>1</td>\n",
       "      <td>0.0</td>\n",
       "      <td>2.3</td>\n",
       "      <td>6.0</td>\n",
       "      <td>0</td>\n",
       "    </tr>\n",
       "    <tr>\n",
       "      <th>1</th>\n",
       "      <td>108</td>\n",
       "      <td>4</td>\n",
       "      <td>3.0</td>\n",
       "      <td>1.5</td>\n",
       "      <td>3.0</td>\n",
       "      <td>1</td>\n",
       "    </tr>\n",
       "    <tr>\n",
       "      <th>2</th>\n",
       "      <td>129</td>\n",
       "      <td>4</td>\n",
       "      <td>2.0</td>\n",
       "      <td>2.6</td>\n",
       "      <td>7.0</td>\n",
       "      <td>1</td>\n",
       "    </tr>\n",
       "    <tr>\n",
       "      <th>3</th>\n",
       "      <td>187</td>\n",
       "      <td>3</td>\n",
       "      <td>0.0</td>\n",
       "      <td>3.5</td>\n",
       "      <td>3.0</td>\n",
       "      <td>0</td>\n",
       "    </tr>\n",
       "    <tr>\n",
       "      <th>4</th>\n",
       "      <td>172</td>\n",
       "      <td>2</td>\n",
       "      <td>0.0</td>\n",
       "      <td>1.4</td>\n",
       "      <td>3.0</td>\n",
       "      <td>0</td>\n",
       "    </tr>\n",
       "    <tr>\n",
       "      <th>...</th>\n",
       "      <td>...</td>\n",
       "      <td>...</td>\n",
       "      <td>...</td>\n",
       "      <td>...</td>\n",
       "      <td>...</td>\n",
       "      <td>...</td>\n",
       "    </tr>\n",
       "    <tr>\n",
       "      <th>298</th>\n",
       "      <td>132</td>\n",
       "      <td>1</td>\n",
       "      <td>0.0</td>\n",
       "      <td>1.2</td>\n",
       "      <td>7.0</td>\n",
       "      <td>0</td>\n",
       "    </tr>\n",
       "    <tr>\n",
       "      <th>299</th>\n",
       "      <td>141</td>\n",
       "      <td>4</td>\n",
       "      <td>2.0</td>\n",
       "      <td>3.4</td>\n",
       "      <td>7.0</td>\n",
       "      <td>0</td>\n",
       "    </tr>\n",
       "    <tr>\n",
       "      <th>300</th>\n",
       "      <td>115</td>\n",
       "      <td>4</td>\n",
       "      <td>1.0</td>\n",
       "      <td>1.2</td>\n",
       "      <td>7.0</td>\n",
       "      <td>1</td>\n",
       "    </tr>\n",
       "    <tr>\n",
       "      <th>301</th>\n",
       "      <td>174</td>\n",
       "      <td>2</td>\n",
       "      <td>1.0</td>\n",
       "      <td>0.0</td>\n",
       "      <td>3.0</td>\n",
       "      <td>0</td>\n",
       "    </tr>\n",
       "    <tr>\n",
       "      <th>302</th>\n",
       "      <td>173</td>\n",
       "      <td>3</td>\n",
       "      <td>0.0</td>\n",
       "      <td>0.0</td>\n",
       "      <td>3.0</td>\n",
       "      <td>0</td>\n",
       "    </tr>\n",
       "  </tbody>\n",
       "</table>\n",
       "<p>303 rows × 6 columns</p>\n",
       "</div>"
      ],
      "text/plain": [
       "     thalach  cp   ca  oldpeak  thal  exang\n",
       "0        150   1  0.0      2.3   6.0      0\n",
       "1        108   4  3.0      1.5   3.0      1\n",
       "2        129   4  2.0      2.6   7.0      1\n",
       "3        187   3  0.0      3.5   3.0      0\n",
       "4        172   2  0.0      1.4   3.0      0\n",
       "..       ...  ..  ...      ...   ...    ...\n",
       "298      132   1  0.0      1.2   7.0      0\n",
       "299      141   4  2.0      3.4   7.0      0\n",
       "300      115   4  1.0      1.2   7.0      1\n",
       "301      174   2  1.0      0.0   3.0      0\n",
       "302      173   3  0.0      0.0   3.0      0\n",
       "\n",
       "[303 rows x 6 columns]"
      ]
     },
     "execution_count": 111,
     "metadata": {},
     "output_type": "execute_result"
    }
   ],
   "source": [
    "X"
   ]
  },
  {
   "cell_type": "code",
   "execution_count": 112,
   "id": "f871c384",
   "metadata": {},
   "outputs": [
    {
     "data": {
      "text/plain": [
       "0      0\n",
       "1      1\n",
       "2      1\n",
       "3      0\n",
       "4      0\n",
       "      ..\n",
       "298    1\n",
       "299    1\n",
       "300    1\n",
       "301    1\n",
       "302    0\n",
       "Name: num, Length: 303, dtype: int64"
      ]
     },
     "execution_count": 112,
     "metadata": {},
     "output_type": "execute_result"
    }
   ],
   "source": [
    "Y"
   ]
  },
  {
   "cell_type": "code",
   "execution_count": 113,
   "id": "d4ee625c",
   "metadata": {},
   "outputs": [],
   "source": [
    "X_train, X_test, Y_train, Y_test = train_test_split(X, Y, test_size=0.2, random_state=42)"
   ]
  },
  {
   "cell_type": "markdown",
   "id": "daaa262e",
   "metadata": {},
   "source": [
    "### Logistic Regression Model"
   ]
  },
  {
   "cell_type": "code",
   "execution_count": 114,
   "id": "0deb2eed",
   "metadata": {},
   "outputs": [],
   "source": [
    "scaler = StandardScaler()\n",
    "X_train_scaled = scaler.fit_transform(X_train)\n",
    "X_test_scaled = scaler.transform(X_test)"
   ]
  },
  {
   "cell_type": "code",
   "execution_count": 115,
   "id": "14a0d731",
   "metadata": {},
   "outputs": [],
   "source": [
    "lr = LogisticRegression(random_state=42)\n",
    "lr.fit(X_train_scaled, Y_train)\n",
    "lr_Y_pred = lr.predict(X_test_scaled)\n",
    "lr_Y_prob = lr.predict_proba(X_test_scaled)[:, 1]"
   ]
  },
  {
   "cell_type": "code",
   "execution_count": 116,
   "id": "22973946",
   "metadata": {},
   "outputs": [
    {
     "name": "stdout",
     "output_type": "stream",
     "text": [
      "Accuracy for Logistic Regression: 0.9180327868852459\n",
      "Precision for Logistic Regression: 0.9354838709677419\n",
      "Recall for Logistic Regression: 0.90625\n",
      "F1 Score for Logistic Regression: 0.9206349206349206\n",
      "Classification Report:\n",
      "              precision    recall  f1-score   support\n",
      "\n",
      "           0       0.90      0.93      0.92        29\n",
      "           1       0.94      0.91      0.92        32\n",
      "\n",
      "    accuracy                           0.92        61\n",
      "   macro avg       0.92      0.92      0.92        61\n",
      "weighted avg       0.92      0.92      0.92        61\n",
      "\n"
     ]
    }
   ],
   "source": [
    "lr_accuracy = accuracy_score(Y_test, lr_Y_pred)\n",
    "print(\"Accuracy for Logistic Regression:\",lr_accuracy)\n",
    "lr_precision = precision_score(Y_test, lr_Y_pred, zero_division=0)\n",
    "print(\"Precision for Logistic Regression:\",lr_precision)\n",
    "lr_recall = recall_score(Y_test, lr_Y_pred, zero_division=0)\n",
    "print(\"Recall for Logistic Regression:\",lr_recall)\n",
    "lr_f1 = f1_score(Y_test, lr_Y_pred, zero_division=0)\n",
    "print(\"F1 Score for Logistic Regression:\",lr_f1)\n",
    "print(\"Classification Report:\")\n",
    "print(classification_report(Y_test, lr_Y_pred, zero_division=0))"
   ]
  },
  {
   "cell_type": "markdown",
   "id": "dae751cb",
   "metadata": {},
   "source": [
    "### Decision Tree Model"
   ]
  },
  {
   "cell_type": "code",
   "execution_count": 117,
   "id": "4942215c",
   "metadata": {},
   "outputs": [],
   "source": [
    "dt = DecisionTreeClassifier(random_state=42)\n",
    "dt.fit(X_train, Y_train)\n",
    "dt_Y_pred = dt.predict(X_test)\n",
    "dt_Y_prob = dt.predict_proba(X_test)[:, 1]"
   ]
  },
  {
   "cell_type": "code",
   "execution_count": 118,
   "id": "ad053104",
   "metadata": {},
   "outputs": [
    {
     "name": "stdout",
     "output_type": "stream",
     "text": [
      "Accuracy for Decision Tree: 0.7704918032786885\n",
      "Precision for Decision Tree: 0.8\n",
      "Recall for Decision Tree: 0.75\n",
      "F1 Score for Decision Tree: 0.7741935483870968\n",
      "Classification Report:\n",
      "              precision    recall  f1-score   support\n",
      "\n",
      "           0       0.74      0.79      0.77        29\n",
      "           1       0.80      0.75      0.77        32\n",
      "\n",
      "    accuracy                           0.77        61\n",
      "   macro avg       0.77      0.77      0.77        61\n",
      "weighted avg       0.77      0.77      0.77        61\n",
      "\n"
     ]
    }
   ],
   "source": [
    "dt_accuracy = accuracy_score(Y_test, dt_Y_pred)\n",
    "print(\"Accuracy for Decision Tree:\",dt_accuracy)\n",
    "dt_precision = precision_score(Y_test, dt_Y_pred, zero_division=0)\n",
    "print(\"Precision for Decision Tree:\",dt_precision)\n",
    "dt_recall = recall_score(Y_test, dt_Y_pred, zero_division=0)\n",
    "print(\"Recall for Decision Tree:\",dt_recall)\n",
    "dt_f1 = f1_score(Y_test, dt_Y_pred, zero_division=0)\n",
    "print(\"F1 Score for Decision Tree:\",dt_f1)\n",
    "print(\"Classification Report:\")\n",
    "print(classification_report(Y_test, dt_Y_pred, zero_division=0))"
   ]
  },
  {
   "cell_type": "markdown",
   "id": "bc70e3bb",
   "metadata": {},
   "source": [
    "### Random Forest Model"
   ]
  },
  {
   "cell_type": "code",
   "execution_count": 119,
   "id": "86444765",
   "metadata": {},
   "outputs": [],
   "source": [
    "rf = RandomForestClassifier(random_state=42)\n",
    "rf.fit(X_train, Y_train)\n",
    "rf_Y_pred = rf.predict(X_test)\n",
    "rf_Y_prob = rf.predict_proba(X_test)[:, 1]"
   ]
  },
  {
   "cell_type": "code",
   "execution_count": 120,
   "id": "8f4bce60",
   "metadata": {},
   "outputs": [
    {
     "name": "stdout",
     "output_type": "stream",
     "text": [
      "Accuracy for Random Forest: 0.8360655737704918\n",
      "Precision for Random Forest: 0.8666666666666667\n",
      "Recall for Random Forest: 0.8125\n",
      "F1 Score for Random Forest: 0.8387096774193549\n",
      "Classification Report:\n",
      "              precision    recall  f1-score   support\n",
      "\n",
      "           0       0.81      0.86      0.83        29\n",
      "           1       0.87      0.81      0.84        32\n",
      "\n",
      "    accuracy                           0.84        61\n",
      "   macro avg       0.84      0.84      0.84        61\n",
      "weighted avg       0.84      0.84      0.84        61\n",
      "\n"
     ]
    }
   ],
   "source": [
    "rf_accuracy = accuracy_score(Y_test, rf_Y_pred)\n",
    "print(\"Accuracy for Random Forest:\",rf_accuracy)\n",
    "rf_precision = precision_score(Y_test, rf_Y_pred, zero_division=0)\n",
    "print(\"Precision for Random Forest:\",rf_precision)\n",
    "rf_recall = recall_score(Y_test, rf_Y_pred, zero_division=0)\n",
    "print(\"Recall for Random Forest:\",rf_recall)\n",
    "rf_f1 = f1_score(Y_test, rf_Y_pred, zero_division=0)\n",
    "print(\"F1 Score for Random Forest:\",rf_f1)\n",
    "print(\"Classification Report:\")\n",
    "print(classification_report(Y_test, rf_Y_pred, zero_division=0))"
   ]
  },
  {
   "cell_type": "markdown",
   "id": "9d851bff",
   "metadata": {},
   "source": [
    "### Support Vector Machine (SVM) Model"
   ]
  },
  {
   "cell_type": "code",
   "execution_count": 121,
   "id": "ea1fbeb0",
   "metadata": {},
   "outputs": [],
   "source": [
    "svm = LogisticRegression(random_state=42)\n",
    "svm.fit(X_train_scaled, Y_train)\n",
    "svm_Y_pred = svm.predict(X_test_scaled)\n",
    "svm_Y_prob = svm.predict_proba(X_test_scaled)[:, 1]"
   ]
  },
  {
   "cell_type": "code",
   "execution_count": 122,
   "id": "295d0939",
   "metadata": {},
   "outputs": [
    {
     "name": "stdout",
     "output_type": "stream",
     "text": [
      "Accuracy for SVM: 0.9180327868852459\n",
      "Precision for SVM: 0.9354838709677419\n",
      "Recall for SVM: 0.90625\n",
      "F1 Score for SVM: 0.9206349206349206\n",
      "Classification Report:\n",
      "              precision    recall  f1-score   support\n",
      "\n",
      "           0       0.90      0.93      0.92        29\n",
      "           1       0.94      0.91      0.92        32\n",
      "\n",
      "    accuracy                           0.92        61\n",
      "   macro avg       0.92      0.92      0.92        61\n",
      "weighted avg       0.92      0.92      0.92        61\n",
      "\n"
     ]
    }
   ],
   "source": [
    "svm_accuracy = accuracy_score(Y_test, svm_Y_pred)\n",
    "print(\"Accuracy for SVM:\",svm_accuracy)\n",
    "svm_precision = precision_score(Y_test, svm_Y_pred, zero_division=0)\n",
    "print(\"Precision for SVM:\",svm_precision)\n",
    "svm_recall = recall_score(Y_test, svm_Y_pred, zero_division=0)\n",
    "print(\"Recall for SVM:\",svm_recall)\n",
    "svm_f1 = f1_score(Y_test, svm_Y_pred, zero_division=0)\n",
    "print(\"F1 Score for SVM:\",svm_f1)\n",
    "print(\"Classification Report:\")\n",
    "print(classification_report(Y_test, svm_Y_pred, zero_division=0))"
   ]
  },
  {
   "cell_type": "markdown",
   "id": "15ca8925",
   "metadata": {},
   "source": [
    "### ROC Curve & AUC Score"
   ]
  },
  {
   "cell_type": "code",
   "execution_count": 123,
   "id": "04324e7b",
   "metadata": {},
   "outputs": [
    {
     "data": {
      "image/png": "[encoded data removed]",
      "text/plain": [
       "<Figure size 900x600 with 1 Axes>"
      ]
     },
     "metadata": {},
     "output_type": "display_data"
    }
   ],
   "source": [
    "plt.figure(figsize=(9, 6))\n",
    "plt.plot([0, 1], [0, 1], 'k--', label='Baseline')\n",
    "\n",
    "## Logistic Regression\n",
    "fpr, tpr, _ = roc_curve(Y_test, lr_Y_prob)\n",
    "roc_auc = auc(fpr, tpr)\n",
    "plt.plot(fpr, tpr, label=f'Logistic Regression (AUC = {roc_auc:.2f})')\n",
    "## Decision Tree\n",
    "fpr, tpr, _ = roc_curve(Y_test, dt_Y_prob)\n",
    "roc_auc = auc(fpr, tpr)\n",
    "plt.plot(fpr, tpr, label=f'Decision Tree (AUC = {roc_auc:.2f})')\n",
    "## Random Forest\n",
    "fpr, tpr, _ = roc_curve(Y_test, rf_Y_prob)\n",
    "roc_auc = auc(fpr, tpr)\n",
    "plt.plot(fpr, tpr, label=f'Random Forest (AUC = {roc_auc:.2f})')\n",
    "## SVM\n",
    "fpr, tpr, _ = roc_curve(Y_test, svm_Y_prob)\n",
    "roc_auc = auc(fpr, tpr)\n",
    "plt.plot(fpr, tpr, label=f'SVM (AUC = {roc_auc:.2f})')\n",
    "\n",
    "plt.title('ROC Curves')\n",
    "plt.xlabel('False Positive Rate')\n",
    "plt.ylabel('True Positive Rate')\n",
    "plt.legend(loc='lower right')\n",
    "plt.grid(True)\n",
    "plt.show()\n"
   ]
  }
 ],
 "metadata": {
  "kernelspec": {
   "display_name": "venv",
   "language": "python",
   "name": "python3"
  },
  "language_info": {
   "codemirror_mode": {
    "name": "ipython",
    "version": 3
   },
   "file_extension": ".py",
   "mimetype": "text/x-python",
   "name": "python",
   "nbconvert_exporter": "python",
   "pygments_lexer": "ipython3",
   "version": "3.13.7"
  }
 },
 "nbformat": 4,
 "nbformat_minor": 5
}
